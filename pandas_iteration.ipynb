{
 "cells": [
  {
   "cell_type": "code",
   "execution_count": 1,
   "metadata": {},
   "outputs": [
    {
     "data": {
      "text/html": [
       "<div>\n",
       "<style scoped>\n",
       "    .dataframe tbody tr th:only-of-type {\n",
       "        vertical-align: middle;\n",
       "    }\n",
       "\n",
       "    .dataframe tbody tr th {\n",
       "        vertical-align: top;\n",
       "    }\n",
       "\n",
       "    .dataframe thead th {\n",
       "        text-align: right;\n",
       "    }\n",
       "</style>\n",
       "<table border=\"1\" class=\"dataframe\">\n",
       "  <thead>\n",
       "    <tr style=\"text-align: right;\">\n",
       "      <th></th>\n",
       "      <th>name</th>\n",
       "      <th>age</th>\n",
       "      <th>score</th>\n",
       "    </tr>\n",
       "  </thead>\n",
       "  <tbody>\n",
       "    <tr>\n",
       "      <th>0</th>\n",
       "      <td>rohit</td>\n",
       "      <td>27</td>\n",
       "      <td>100</td>\n",
       "    </tr>\n",
       "    <tr>\n",
       "      <th>1</th>\n",
       "      <td>dhawan</td>\n",
       "      <td>28</td>\n",
       "      <td>63</td>\n",
       "    </tr>\n",
       "    <tr>\n",
       "      <th>2</th>\n",
       "      <td>kohli</td>\n",
       "      <td>25</td>\n",
       "      <td>88</td>\n",
       "    </tr>\n",
       "    <tr>\n",
       "      <th>3</th>\n",
       "      <td>pandya</td>\n",
       "      <td>25</td>\n",
       "      <td>34</td>\n",
       "    </tr>\n",
       "    <tr>\n",
       "      <th>4</th>\n",
       "      <td>pant</td>\n",
       "      <td>24</td>\n",
       "      <td>45</td>\n",
       "    </tr>\n",
       "    <tr>\n",
       "      <th>5</th>\n",
       "      <td>dhoni</td>\n",
       "      <td>30</td>\n",
       "      <td>35</td>\n",
       "    </tr>\n",
       "  </tbody>\n",
       "</table>\n",
       "</div>"
      ],
      "text/plain": [
       "     name  age  score\n",
       "0   rohit   27    100\n",
       "1  dhawan   28     63\n",
       "2   kohli   25     88\n",
       "3  pandya   25     34\n",
       "4    pant   24     45\n",
       "5   dhoni   30     35"
      ]
     },
     "execution_count": 1,
     "metadata": {},
     "output_type": "execute_result"
    }
   ],
   "source": [
    "#In order to iterate over rows, we can use three function iteritems(), iterrows(), itertuples()\n",
    "import pandas as pd\n",
    "my_dict = {'name': ['rohit','dhawan','kohli','pandya','pant','dhoni',], 'age':[27,28,25,25,24,30], 'score':[100,63,88,34,45,35]}\n",
    "df = pd.DataFrame(my_dict)\n",
    "df"
   ]
  },
  {
   "cell_type": "code",
   "execution_count": 6,
   "metadata": {},
   "outputs": [
    {
     "name": "stdout",
     "output_type": "stream",
     "text": [
      "0 name     rohit\n",
      "age         27\n",
      "score      100\n",
      "Name: 0, dtype: object \n",
      "\n",
      "1 name     dhawan\n",
      "age          28\n",
      "score        63\n",
      "Name: 1, dtype: object \n",
      "\n",
      "2 name     kohli\n",
      "age         25\n",
      "score       88\n",
      "Name: 2, dtype: object \n",
      "\n",
      "3 name     pandya\n",
      "age          25\n",
      "score        34\n",
      "Name: 3, dtype: object \n",
      "\n",
      "4 name     pant\n",
      "age        24\n",
      "score      45\n",
      "Name: 4, dtype: object \n",
      "\n",
      "5 name     dhoni\n",
      "age         30\n",
      "score       35\n",
      "Name: 5, dtype: object \n",
      "\n"
     ]
    }
   ],
   "source": [
    "for i,j in df.iterrows():\n",
    "    print(i  , j,'\\n')"
   ]
  },
  {
   "cell_type": "code",
   "execution_count": 7,
   "metadata": {},
   "outputs": [
    {
     "name": "stdout",
     "output_type": "stream",
     "text": [
      "name 0     rohit\n",
      "1    dhawan\n",
      "2     kohli\n",
      "3    pandya\n",
      "4      pant\n",
      "5     dhoni\n",
      "Name: name, dtype: object \n",
      "\n",
      "age 0    27\n",
      "1    28\n",
      "2    25\n",
      "3    25\n",
      "4    24\n",
      "5    30\n",
      "Name: age, dtype: int64 \n",
      "\n",
      "score 0    100\n",
      "1     63\n",
      "2     88\n",
      "3     34\n",
      "4     45\n",
      "5     35\n",
      "Name: score, dtype: int64 \n",
      "\n"
     ]
    }
   ],
   "source": [
    "for key,value in df.iteritems():\n",
    "    print(key , value, '\\n')"
   ]
  },
  {
   "cell_type": "code",
   "execution_count": 9,
   "metadata": {},
   "outputs": [
    {
     "name": "stdout",
     "output_type": "stream",
     "text": [
      "Pandas(Index=0, name='rohit', age=27, score=100)\n",
      "Pandas(Index=1, name='dhawan', age=28, score=63)\n",
      "Pandas(Index=2, name='kohli', age=25, score=88)\n",
      "Pandas(Index=3, name='pandya', age=25, score=34)\n",
      "Pandas(Index=4, name='pant', age=24, score=45)\n",
      "Pandas(Index=5, name='dhoni', age=30, score=35)\n"
     ]
    }
   ],
   "source": [
    "for tup in df.itertuples():\n",
    "    print(tup)"
   ]
  },
  {
   "cell_type": "code",
   "execution_count": 10,
   "metadata": {},
   "outputs": [
    {
     "name": "stdout",
     "output_type": "stream",
     "text": [
      "name\n",
      "age\n",
      "score\n"
     ]
    }
   ],
   "source": [
    "col_list = df.columns.tolist()\n",
    "for col in col_list:\n",
    "    print(col)"
   ]
  },
  {
   "cell_type": "code",
   "execution_count": 12,
   "metadata": {},
   "outputs": [
    {
     "name": "stdout",
     "output_type": "stream",
     "text": [
      "pandya\n",
      "25\n",
      "34\n"
     ]
    }
   ],
   "source": [
    "for col in col_list:\n",
    "    print(df[col][3])"
   ]
  },
  {
   "cell_type": "code",
   "execution_count": null,
   "metadata": {},
   "outputs": [],
   "source": []
  }
 ],
 "metadata": {
  "kernelspec": {
   "display_name": "Python 3",
   "language": "python",
   "name": "python3"
  },
  "language_info": {
   "codemirror_mode": {
    "name": "ipython",
    "version": 3
   },
   "file_extension": ".py",
   "mimetype": "text/x-python",
   "name": "python",
   "nbconvert_exporter": "python",
   "pygments_lexer": "ipython3",
   "version": "3.7.3"
  }
 },
 "nbformat": 4,
 "nbformat_minor": 2
}
