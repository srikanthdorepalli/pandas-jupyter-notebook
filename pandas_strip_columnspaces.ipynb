{
 "cells": [
  {
   "cell_type": "code",
   "execution_count": 38,
   "metadata": {},
   "outputs": [
    {
     "data": {
      "text/plain": [
       "0      1\n",
       "285    0\n",
       "Name: value, dtype: int64"
      ]
     },
     "execution_count": 38,
     "metadata": {},
     "output_type": "execute_result"
    }
   ],
   "source": [
    "import pandas as pd\n",
    "df = pd.read_csv('FairDealCustomerData.csv', header = None, names = ['fname','lname','value'])\n",
    "newdf = df[df.fname.str.strip() == 'Braund']\n",
    "newdf['value']\n"
   ]
  },
  {
   "cell_type": "code",
   "execution_count": 22,
   "metadata": {},
   "outputs": [
    {
     "name": "stdout",
     "output_type": "stream",
     "text": [
      "0    0\n",
      "Name: value, dtype: object\n"
     ]
    }
   ],
   "source": [
    "import pandas as pd \n",
    "  \n",
    "# initialize list of lists \n",
    "data = [[1, 'navya','reddy','0'], [2, 'kavya','reddy','1'], [1, 'bhavya','reddy','1']] \n",
    "  \n",
    "# Create the pandas DataFrame \n",
    "df = pd.DataFrame(data, columns = ['ID', 'fname','lname','value']) \n",
    "\n",
    "rslt_df = df[df['fname'] == 'navya']\n",
    "print(rslt_df['value'])"
   ]
  },
  {
   "cell_type": "code",
   "execution_count": null,
   "metadata": {},
   "outputs": [],
   "source": []
  }
 ],
 "metadata": {
  "kernelspec": {
   "display_name": "Python 3",
   "language": "python",
   "name": "python3"
  },
  "language_info": {
   "codemirror_mode": {
    "name": "ipython",
    "version": 3
   },
   "file_extension": ".py",
   "mimetype": "text/x-python",
   "name": "python",
   "nbconvert_exporter": "python",
   "pygments_lexer": "ipython3",
   "version": "3.7.3"
  }
 },
 "nbformat": 4,
 "nbformat_minor": 2
}
