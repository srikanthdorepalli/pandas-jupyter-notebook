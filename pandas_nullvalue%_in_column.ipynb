{
 "cells": [
  {
   "cell_type": "code",
   "execution_count": 2,
   "metadata": {},
   "outputs": [
    {
     "data": {
      "text/html": [
       "<div>\n",
       "<style scoped>\n",
       "    .dataframe tbody tr th:only-of-type {\n",
       "        vertical-align: middle;\n",
       "    }\n",
       "\n",
       "    .dataframe tbody tr th {\n",
       "        vertical-align: top;\n",
       "    }\n",
       "\n",
       "    .dataframe thead th {\n",
       "        text-align: right;\n",
       "    }\n",
       "</style>\n",
       "<table border=\"1\" class=\"dataframe\">\n",
       "  <thead>\n",
       "    <tr style=\"text-align: right;\">\n",
       "      <th></th>\n",
       "      <th>First Name</th>\n",
       "      <th>Gender</th>\n",
       "      <th>Start Date</th>\n",
       "      <th>Last Login Time</th>\n",
       "      <th>Salary</th>\n",
       "      <th>Bonus %</th>\n",
       "      <th>Senior Management</th>\n",
       "      <th>Team</th>\n",
       "    </tr>\n",
       "  </thead>\n",
       "  <tbody>\n",
       "    <tr>\n",
       "      <th>0</th>\n",
       "      <td>Douglas</td>\n",
       "      <td>Male</td>\n",
       "      <td>8/6/1993</td>\n",
       "      <td>12:42 PM</td>\n",
       "      <td>97308</td>\n",
       "      <td>6.945</td>\n",
       "      <td>True</td>\n",
       "      <td>Marketing</td>\n",
       "    </tr>\n",
       "    <tr>\n",
       "      <th>1</th>\n",
       "      <td>Thomas</td>\n",
       "      <td>Male</td>\n",
       "      <td>3/31/1996</td>\n",
       "      <td>6:53 AM</td>\n",
       "      <td>61933</td>\n",
       "      <td>4.170</td>\n",
       "      <td>True</td>\n",
       "      <td>NaN</td>\n",
       "    </tr>\n",
       "    <tr>\n",
       "      <th>2</th>\n",
       "      <td>Maria</td>\n",
       "      <td>Female</td>\n",
       "      <td>4/23/1993</td>\n",
       "      <td>11:17 AM</td>\n",
       "      <td>130590</td>\n",
       "      <td>11.858</td>\n",
       "      <td>False</td>\n",
       "      <td>Finance</td>\n",
       "    </tr>\n",
       "    <tr>\n",
       "      <th>3</th>\n",
       "      <td>Jerry</td>\n",
       "      <td>Male</td>\n",
       "      <td>3/4/2005</td>\n",
       "      <td>1:00 PM</td>\n",
       "      <td>138705</td>\n",
       "      <td>9.340</td>\n",
       "      <td>True</td>\n",
       "      <td>Finance</td>\n",
       "    </tr>\n",
       "    <tr>\n",
       "      <th>4</th>\n",
       "      <td>Larry</td>\n",
       "      <td>Male</td>\n",
       "      <td>1/24/1998</td>\n",
       "      <td>4:47 PM</td>\n",
       "      <td>101004</td>\n",
       "      <td>1.389</td>\n",
       "      <td>True</td>\n",
       "      <td>Client Services</td>\n",
       "    </tr>\n",
       "    <tr>\n",
       "      <th>5</th>\n",
       "      <td>Dennis</td>\n",
       "      <td>Male</td>\n",
       "      <td>4/18/1987</td>\n",
       "      <td>1:35 AM</td>\n",
       "      <td>115163</td>\n",
       "      <td>10.125</td>\n",
       "      <td>False</td>\n",
       "      <td>Legal</td>\n",
       "    </tr>\n",
       "    <tr>\n",
       "      <th>6</th>\n",
       "      <td>Ruby</td>\n",
       "      <td>Female</td>\n",
       "      <td>8/17/1987</td>\n",
       "      <td>4:20 PM</td>\n",
       "      <td>65476</td>\n",
       "      <td>10.012</td>\n",
       "      <td>True</td>\n",
       "      <td>Product</td>\n",
       "    </tr>\n",
       "    <tr>\n",
       "      <th>7</th>\n",
       "      <td>NaN</td>\n",
       "      <td>Female</td>\n",
       "      <td>7/20/2015</td>\n",
       "      <td>10:43 AM</td>\n",
       "      <td>45906</td>\n",
       "      <td>11.598</td>\n",
       "      <td>NaN</td>\n",
       "      <td>Finance</td>\n",
       "    </tr>\n",
       "    <tr>\n",
       "      <th>8</th>\n",
       "      <td>Angela</td>\n",
       "      <td>Female</td>\n",
       "      <td>11/22/2005</td>\n",
       "      <td>6:29 AM</td>\n",
       "      <td>95570</td>\n",
       "      <td>18.523</td>\n",
       "      <td>True</td>\n",
       "      <td>Engineering</td>\n",
       "    </tr>\n",
       "    <tr>\n",
       "      <th>9</th>\n",
       "      <td>Frances</td>\n",
       "      <td>Female</td>\n",
       "      <td>8/8/2002</td>\n",
       "      <td>6:51 AM</td>\n",
       "      <td>139852</td>\n",
       "      <td>7.524</td>\n",
       "      <td>True</td>\n",
       "      <td>Business Development</td>\n",
       "    </tr>\n",
       "  </tbody>\n",
       "</table>\n",
       "</div>"
      ],
      "text/plain": [
       "  First Name  Gender  Start Date Last Login Time  Salary  Bonus %  \\\n",
       "0    Douglas    Male    8/6/1993        12:42 PM   97308    6.945   \n",
       "1     Thomas    Male   3/31/1996         6:53 AM   61933    4.170   \n",
       "2      Maria  Female   4/23/1993        11:17 AM  130590   11.858   \n",
       "3      Jerry    Male    3/4/2005         1:00 PM  138705    9.340   \n",
       "4      Larry    Male   1/24/1998         4:47 PM  101004    1.389   \n",
       "5     Dennis    Male   4/18/1987         1:35 AM  115163   10.125   \n",
       "6       Ruby  Female   8/17/1987         4:20 PM   65476   10.012   \n",
       "7        NaN  Female   7/20/2015        10:43 AM   45906   11.598   \n",
       "8     Angela  Female  11/22/2005         6:29 AM   95570   18.523   \n",
       "9    Frances  Female    8/8/2002         6:51 AM  139852    7.524   \n",
       "\n",
       "  Senior Management                  Team  \n",
       "0              True             Marketing  \n",
       "1              True                   NaN  \n",
       "2             False               Finance  \n",
       "3              True               Finance  \n",
       "4              True       Client Services  \n",
       "5             False                 Legal  \n",
       "6              True               Product  \n",
       "7               NaN               Finance  \n",
       "8              True           Engineering  \n",
       "9              True  Business Development  "
      ]
     },
     "execution_count": 2,
     "metadata": {},
     "output_type": "execute_result"
    }
   ],
   "source": [
    "import pandas as pd\n",
    "df = pd.read_csv('employees.csv')\n",
    "df.head(10)"
   ]
  },
  {
   "cell_type": "code",
   "execution_count": 2,
   "metadata": {},
   "outputs": [
    {
     "data": {
      "text/plain": [
       "Index(['First Name', 'Gender', 'Start Date', 'Last Login Time', 'Salary',\n",
       "       'Bonus %', 'Senior Management', 'Team'],\n",
       "      dtype='object')"
      ]
     },
     "execution_count": 2,
     "metadata": {},
     "output_type": "execute_result"
    }
   ],
   "source": [
    "df.columns"
   ]
  },
  {
   "cell_type": "code",
   "execution_count": 5,
   "metadata": {},
   "outputs": [
    {
     "name": "stdout",
     "output_type": "stream",
     "text": [
      "enter column name to check :- Team\n",
      "This column has 4.3 percent null values\n"
     ]
    }
   ],
   "source": [
    "#taking column name as input and finding null values percentage of that column\n",
    "import pandas as pd\n",
    "class NullPercent:\n",
    "    def __init__(self):\n",
    "        self.col_name = input('enter column name to check :- ')\n",
    "        self.df = pd.read_csv('employees.csv')\n",
    "    def getPercent(self):\n",
    "        count_without_null = len(self.df[self.col_name])\n",
    "        null_count = len(self.df[self.df[self.col_name].isnull()])\n",
    "        percent = (null_count/count_without_null)*100\n",
    "        print('This column has {0} percent null values'.format(percent))\n",
    "\n",
    "    \n",
    "obj = NullPercent()\n",
    "obj.getPercent()"
   ]
  },
  {
   "cell_type": "code",
   "execution_count": 3,
   "metadata": {},
   "outputs": [
    {
     "name": "stdout",
     "output_type": "stream",
     "text": [
      "The below table shows null values percentages in each column:-\n",
      "First Name            6.7\n",
      "Gender               14.5\n",
      "Start Date            0.0\n",
      "Last Login Time       0.0\n",
      "Salary                0.0\n",
      "Bonus %               0.0\n",
      "Senior Management     6.7\n",
      "Team                  4.3\n",
      "dtype: float64\n"
     ]
    }
   ],
   "source": [
    "#mean-sum of all values in a column divided by no. of values in a column\n",
    "#using mean\n",
    "class NullPercent:\n",
    "    def __init__(self):\n",
    "        self.df = pd.read_csv('employees.csv')\n",
    "    def getPercent(self):\n",
    "        bool_df = self.df.isnull()\n",
    "        print('The below table shows null values percentages in each column:-' )\n",
    "        print(bool_df.mean()*100)\n",
    "\n",
    "    \n",
    "obj1 = NullPercent()\n",
    "obj1.getPercent()"
   ]
  },
  {
   "cell_type": "code",
   "execution_count": 4,
   "metadata": {},
   "outputs": [
    {
     "name": "stdout",
     "output_type": "stream",
     "text": [
      "The below table shows null values percentages in each column:-\n",
      "32.2\n"
     ]
    }
   ],
   "source": [
    "#mean-sum of all values in a column divided by no. of values in a column\n",
    "#using mean\n",
    "class NullPercent:\n",
    "    def __init__(self):\n",
    "        self.df = pd.read_csv('employees.csv')\n",
    "    def getPercent(self):\n",
    "        bool_df = self.df.isnull()\n",
    "        print('The below table shows null values percentages in each column:-' )\n",
    "        print((bool_df.mean()*100).sum())\n",
    "\n",
    "    \n",
    "obj1 = NullPercent()\n",
    "obj1.getPercent()"
   ]
  },
  {
   "cell_type": "code",
   "execution_count": null,
   "metadata": {},
   "outputs": [],
   "source": []
  }
 ],
 "metadata": {
  "kernelspec": {
   "display_name": "Python 3",
   "language": "python",
   "name": "python3"
  },
  "language_info": {
   "codemirror_mode": {
    "name": "ipython",
    "version": 3
   },
   "file_extension": ".py",
   "mimetype": "text/x-python",
   "name": "python",
   "nbconvert_exporter": "python",
   "pygments_lexer": "ipython3",
   "version": "3.7.3"
  }
 },
 "nbformat": 4,
 "nbformat_minor": 2
}
